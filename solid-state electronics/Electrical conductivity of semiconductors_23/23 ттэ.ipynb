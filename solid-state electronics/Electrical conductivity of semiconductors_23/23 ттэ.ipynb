{
 "cells": [
  {
   "cell_type": "code",
   "execution_count": 1,
   "metadata": {},
   "outputs": [],
   "source": [
    "import matplotlib.pyplot as plt\n",
    "import pandas as pd\n",
    "import numpy as np\n",
    "import scipy as sp\n",
    "from scipy import stats\n",
    "from statistics import mean\n",
    "from functools import reduce\n",
    "import math"
   ]
  },
  {
   "cell_type": "code",
   "execution_count": 2,
   "metadata": {},
   "outputs": [],
   "source": [
    "file = pd.ExcelFile(\"data.xlsx\")"
   ]
  },
  {
   "cell_type": "code",
   "execution_count": 3,
   "metadata": {},
   "outputs": [],
   "source": [
    "U = file.parse(sheet_name = 'Лист1', header=0, usecols='A').values.flatten() #мВ\n",
    "U_error = 0.1 #мВ\n",
    "l = file.parse(sheet_name = 'Лист1', header=0, usecols='B').values.flatten() #мм\n",
    "l_error = 0.02 #мм"
   ]
  },
  {
   "cell_type": "markdown",
   "metadata": {},
   "source": [
    "Строим зависимость U(l)"
   ]
  },
  {
   "cell_type": "code",
   "execution_count": 4,
   "metadata": {},
   "outputs": [
    {
     "name": "stdout",
     "output_type": "stream",
     "text": [
      "[-1.28571429 10.91047619]\n"
     ]
    },
    {
     "data": {
      "image/png": "[encoded data removed]",
      "text/plain": [
       "<Figure size 432x288 with 1 Axes>"
      ]
     },
     "metadata": {
      "needs_background": "light"
     },
     "output_type": "display_data"
    }
   ],
   "source": [
    "fig, ax = plt.subplots()\n",
    "\n",
    "plt.scatter(l, U, color = 'black', s = 2)\n",
    "plt.errorbar(l, U, yerr = U_error, xerr = l_error,fmt='none',ecolor = 'black',elinewidth = 1)\n",
    "\n",
    "z = np.polyfit(l[5:], U[5:], 1)\n",
    "f = np.poly1d(z)\n",
    "l_new = np.linspace(l[5], l[-1], 100)\n",
    "U_new = f(l_new)\n",
    "\n",
    "print(f.c) \n",
    "\n",
    "plt.plot(l_new, U_new, linewidth = 1, color = \"black\", label = 'y = -1.29x + 10.91')\n",
    "\n",
    "plt.grid(True)\n",
    "ax.minorticks_on()\n",
    "ax.grid(which='major', linewidth = 0.75)\n",
    "ax.grid(which='minor', linewidth = 0.5)\n",
    "ax.set_ylabel('U, мВ')\n",
    "ax.set_xlabel('$\\Delta$l, мм')\n",
    "plt.legend()\n",
    "plt.show()\n",
    "fig.savefig('U(l).png', dpi = 1000)"
   ]
  },
  {
   "cell_type": "code",
   "execution_count": 5,
   "metadata": {},
   "outputs": [
    {
     "name": "stdout",
     "output_type": "stream",
     "text": [
      "k = -1.2857142857142863 sigma_k = 0.06658917526662714\n",
      "b = 10.910476190476196 sigma_b = 0.5502156007657364\n"
     ]
    }
   ],
   "source": [
    "#погрешность по МНК\n",
    "def Dii(a):\n",
    "    d = 0\n",
    "    avg = reduce(lambda x, y: x + y, a) /len(a)\n",
    "    for i in range(len(a)):\n",
    "        d += (a[i] - avg)**2\n",
    "    return d/len(a)\n",
    "\n",
    "def sigma_b(x, sigmak):\n",
    "    b = 0\n",
    "    for i in range(len(x)):\n",
    "        b += x[i]**2\n",
    "    return sigmak*np.sqrt(b/len(x))\n",
    "\n",
    "def sigma_k(x, y, k):\n",
    "    return np.sqrt(abs(Dii(y)/Dii(x) - (k)**2)/(len(x)-2))\n",
    "\n",
    "\n",
    "s_k = sigma_k(l[5:], U[5:], f.c[0])\n",
    "s_b = sigma_b(U, s_k)\n",
    "\n",
    "print('k =', f.c[0], 'sigma_k =', s_k)\n",
    "print('b =', f.c[1], 'sigma_b =', s_b)"
   ]
  },
  {
   "cell_type": "markdown",
   "metadata": {},
   "source": [
    "Считаем удельное сопротивление"
   ]
  },
  {
   "cell_type": "code",
   "execution_count": 6,
   "metadata": {},
   "outputs": [
    {
     "name": "stdout",
     "output_type": "stream",
     "text": [
      "484.45714285714314\n",
      "25.093031434793364\n"
     ]
    }
   ],
   "source": [
    "ro = abs(f.c[0])*3.14*6**2/(4*0.075) #10^(-3) Ом*мм\n",
    "ro_error = 3.14*6**2/4*((abs(s_k)/0.075)**2+(abs(s_k)*0.001/0.075**2)**2)**(1/2)\n",
    "print(ro)\n",
    "print(ro_error)"
   ]
  },
  {
   "cell_type": "code",
   "execution_count": null,
   "metadata": {},
   "outputs": [],
   "source": []
  }
 ],
 "metadata": {
  "kernelspec": {
   "display_name": "Python 3",
   "language": "python",
   "name": "python3"
  },
  "language_info": {
   "codemirror_mode": {
    "name": "ipython",
    "version": 3
   },
   "file_extension": ".py",
   "mimetype": "text/x-python",
   "name": "python",
   "nbconvert_exporter": "python",
   "pygments_lexer": "ipython3",
   "version": "3.7.4"
  }
 },
 "nbformat": 4,
 "nbformat_minor": 2
}
