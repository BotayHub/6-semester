{
 "cells": [
  {
   "cell_type": "code",
   "execution_count": 1,
   "metadata": {},
   "outputs": [],
   "source": [
    "import matplotlib.pyplot as plt\n",
    "import pandas as pd\n",
    "import numpy as np\n",
    "import scipy as sp\n",
    "from scipy import stats\n",
    "from statistics import mean\n",
    "from functools import reduce\n",
    "import math"
   ]
  },
  {
   "cell_type": "code",
   "execution_count": 2,
   "metadata": {},
   "outputs": [],
   "source": [
    "file = pd.ExcelFile(\"data.xlsx\")"
   ]
  },
  {
   "cell_type": "code",
   "execution_count": 3,
   "metadata": {},
   "outputs": [],
   "source": [
    "I_2 = file.parse(sheet_name = 'Лист1', header=0, usecols='A').values.flatten() #A\n",
    "I_2_error = 0.01 #А\n",
    "Am_2 = file.parse(sheet_name = 'Лист1', header=0, usecols='B').values.flatten()\n",
    "Am_2_error = 0.1"
   ]
  },
  {
   "cell_type": "code",
   "execution_count": 4,
   "metadata": {},
   "outputs": [],
   "source": [
    "file = pd.ExcelFile(\"data_2.xlsx\")"
   ]
  },
  {
   "cell_type": "code",
   "execution_count": 5,
   "metadata": {},
   "outputs": [],
   "source": [
    "F_1 = file.parse(sheet_name = 'Лист1', header=0, usecols='B').values.flatten() #Гц\n",
    "F_1_error = 0.1\n",
    "Am_1 = file.parse(sheet_name = 'Лист1', header=0, usecols='A').values.flatten()\n",
    "Am_1_error = 0.1"
   ]
  },
  {
   "cell_type": "markdown",
   "metadata": {},
   "source": [
    "Строим зависимость амплитуды от частоты, чтобы найти оптимальную частоту, соответствующую максимальной амплитуде"
   ]
  },
  {
   "cell_type": "code",
   "execution_count": 15,
   "metadata": {},
   "outputs": [
    {
     "data": {
      "image/png": "[encoded data removed]",
      "text/plain": [
       "<Figure size 432x288 with 1 Axes>"
      ]
     },
     "metadata": {
      "needs_background": "light"
     },
     "output_type": "display_data"
    }
   ],
   "source": [
    "fig, ax = plt.subplots()\n",
    "Am_1_max = max(Am_1)\n",
    "Am_1_new = [Am_1[i]/Am_1_max for i in range (len(Am_1))]\n",
    "\n",
    "plt.scatter(F_1, Am_1_new, color = 'red', s = 2)\n",
    "#plt.errorbar(F_1, Am_1_new, yerr = F_1_error, xerr = Am_1_error,fmt='none',ecolor = 'black',elinewidth = 1)\n",
    "\n",
    "plt.grid(True)\n",
    "ax.minorticks_on()\n",
    "ax.grid(which='major', linewidth = 0.75)\n",
    "ax.grid(which='minor', linewidth = 0.5)\n",
    "ax.set_ylabel('Амплитуда полезного сигнала, отн. ед.')\n",
    "ax.set_xlabel('f, Гц')\n",
    "plt.show()\n",
    "fig.savefig('Am(f)_Kate.png', dpi = 1000)"
   ]
  },
  {
   "cell_type": "code",
   "execution_count": 12,
   "metadata": {},
   "outputs": [
    {
     "data": {
      "image/png": "[encoded data removed]",
      "text/plain": [
       "<Figure size 432x288 with 1 Axes>"
      ]
     },
     "metadata": {
      "needs_background": "light"
     },
     "output_type": "display_data"
    }
   ],
   "source": [
    "fig, ax = plt.subplots()\n",
    "Am_2_abs = [abs(Am_2[i]) for i in range (len(Am_2))]\n",
    "Am_2_max = max(Am_2_abs)\n",
    "Am_2_new = [Am_2[i]/Am_2_max for i in range (len(Am_2))]\n",
    "\n",
    "plt.scatter(I_2, Am_2_new, color = 'red', s = 2)\n",
    "#plt.errorbar(I_2, Am_2_new, yerr = F_1_error, xerr = Am_1_error,fmt='none',ecolor = 'black',elinewidth = 1)\n",
    "\n",
    "plt.grid(True)\n",
    "ax.minorticks_on()\n",
    "ax.grid(which='major', linewidth = 0.75)\n",
    "ax.grid(which='minor', linewidth = 0.5)\n",
    "ax.set_ylabel('Намагниченность образца, отн. ед.')\n",
    "ax.set_xlabel('I, A')\n",
    "plt.show()\n",
    "fig.savefig('Am(I)_Kate.png', dpi = 1000)"
   ]
  },
  {
   "cell_type": "code",
   "execution_count": 18,
   "metadata": {},
   "outputs": [],
   "source": [
    "#Выгрузить данные в эксель\n",
    "\n",
    "from pandas import DataFrame\n",
    "df = DataFrame({'I': I_2,'Am_2': Am_2_new})\n",
    "df.to_excel('scint.xlsx', sheet_name='Лист1', index=False)"
   ]
  },
  {
   "cell_type": "code",
   "execution_count": 16,
   "metadata": {},
   "outputs": [],
   "source": [
    "#Выгрузить данные в эксель\n",
    "\n",
    "from pandas import DataFrame\n",
    "df = DataFrame({'Am_1': Am_1_new, 'F_1': F_1})\n",
    "df.to_excel('scint_1.xlsx', sheet_name='Лист1', index=False)"
   ]
  }
 ],
 "metadata": {
  "kernelspec": {
   "display_name": "Python 3",
   "language": "python",
   "name": "python3"
  },
  "language_info": {
   "codemirror_mode": {
    "name": "ipython",
    "version": 3
   },
   "file_extension": ".py",
   "mimetype": "text/x-python",
   "name": "python",
   "nbconvert_exporter": "python",
   "pygments_lexer": "ipython3",
   "version": "3.7.4"
  }
 },
 "nbformat": 4,
 "nbformat_minor": 2
}
