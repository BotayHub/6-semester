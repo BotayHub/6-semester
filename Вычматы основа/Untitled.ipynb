{
 "cells": [
  {
   "cell_type": "markdown",
   "metadata": {},
   "source": []
  },
  {
   "cell_type": "code",
   "execution_count": null,
   "metadata": {},
   "outputs": [],
   "source": [
    "def main():\n",
    "    n = int(input())\n",
    "    a = list(map(float, input().split()))\n",
    "    det_down = 1.0\n",
    "    det_up = a[0]\n",
    "    if n <= 1:\n",
    "        print(det_up)\n",
    "        return\n",
    "\n",
    "    b = list(map(float, input().split()))\n",
    "    c = list(map(float, input().split()))\n",
    "\n",
    "    for i in range(1,  n):\n",
    "        det_up, det_down = a[i] * det_up - c[i-1] * b[i-1] * det_down, det_up\n",
    "    print(det_up)\n",
    "\n",
    "if __name__ == \"__main__\":\n",
    "    main()"
   ]
  }
 ],
 "metadata": {
  "kernelspec": {
   "display_name": "Python 3",
   "language": "python",
   "name": "python3"
  },
  "language_info": {
   "codemirror_mode": {
    "name": "ipython",
    "version": 3
   },
   "file_extension": ".py",
   "mimetype": "text/x-python",
   "name": "python",
   "nbconvert_exporter": "python",
   "pygments_lexer": "ipython3",
   "version": "3.7.4"
  }
 },
 "nbformat": 4,
 "nbformat_minor": 2
}
