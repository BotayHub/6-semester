{
 "cells": [
  {
   "cell_type": "code",
   "execution_count": 15,
   "metadata": {},
   "outputs": [],
   "source": [
    "import numpy as np\n",
    "import matplotlib\n",
    "import matplotlib.pyplot as plt\n",
    "import pandas as pd\n",
    "import math\n",
    "%matplotlib inline"
   ]
  },
  {
   "cell_type": "markdown",
   "metadata": {},
   "source": [
    "Аналитическое решение на временном слое t = T = 1: $u = e^{x}(x-1) + (e^{x} - t)^{2}$"
   ]
  },
  {
   "cell_type": "code",
   "execution_count": 36,
   "metadata": {},
   "outputs": [
    {
     "data": {
      "image/png": "[encoded data removed]",
      "text/plain": [
       "<Figure size 432x288 with 1 Axes>"
      ]
     },
     "metadata": {
      "needs_background": "light"
     },
     "output_type": "display_data"
    },
    {
     "data": {
      "text/html": [
       "<div>\n",
       "<style scoped>\n",
       "    .dataframe tbody tr th:only-of-type {\n",
       "        vertical-align: middle;\n",
       "    }\n",
       "\n",
       "    .dataframe tbody tr th {\n",
       "        vertical-align: top;\n",
       "    }\n",
       "\n",
       "    .dataframe thead th {\n",
       "        text-align: right;\n",
       "    }\n",
       "</style>\n",
       "<table border=\"1\" class=\"dataframe\">\n",
       "  <thead>\n",
       "    <tr style=\"text-align: right;\">\n",
       "      <th></th>\n",
       "      <th>0</th>\n",
       "      <th>1</th>\n",
       "      <th>2</th>\n",
       "      <th>3</th>\n",
       "      <th>4</th>\n",
       "      <th>5</th>\n",
       "      <th>6</th>\n",
       "      <th>7</th>\n",
       "      <th>8</th>\n",
       "      <th>9</th>\n",
       "      <th>...</th>\n",
       "      <th>41</th>\n",
       "      <th>42</th>\n",
       "      <th>43</th>\n",
       "      <th>44</th>\n",
       "      <th>45</th>\n",
       "      <th>46</th>\n",
       "      <th>47</th>\n",
       "      <th>48</th>\n",
       "      <th>49</th>\n",
       "      <th>50</th>\n",
       "    </tr>\n",
       "  </thead>\n",
       "  <tbody>\n",
       "    <tr>\n",
       "      <th>x</th>\n",
       "      <td>0.0</td>\n",
       "      <td>0.020000</td>\n",
       "      <td>0.040000</td>\n",
       "      <td>0.060000</td>\n",
       "      <td>0.080000</td>\n",
       "      <td>0.100000</td>\n",
       "      <td>0.120000</td>\n",
       "      <td>0.140000</td>\n",
       "      <td>0.160000</td>\n",
       "      <td>0.180000</td>\n",
       "      <td>...</td>\n",
       "      <td>0.82000</td>\n",
       "      <td>0.840000</td>\n",
       "      <td>0.860000</td>\n",
       "      <td>0.88000</td>\n",
       "      <td>0.900000</td>\n",
       "      <td>0.920000</td>\n",
       "      <td>0.940000</td>\n",
       "      <td>0.960000</td>\n",
       "      <td>0.980000</td>\n",
       "      <td>1.000000</td>\n",
       "    </tr>\n",
       "    <tr>\n",
       "      <th>u_an</th>\n",
       "      <td>-1.0</td>\n",
       "      <td>-0.999389</td>\n",
       "      <td>-0.997513</td>\n",
       "      <td>-0.994303</td>\n",
       "      <td>-0.989687</td>\n",
       "      <td>-0.983593</td>\n",
       "      <td>-0.975942</td>\n",
       "      <td>-0.966653</td>\n",
       "      <td>-0.955643</td>\n",
       "      <td>-0.942824</td>\n",
       "      <td>...</td>\n",
       "      <td>1.20548</td>\n",
       "      <td>1.362203</td>\n",
       "      <td>1.527365</td>\n",
       "      <td>1.70133</td>\n",
       "      <td>1.884481</td>\n",
       "      <td>2.077214</td>\n",
       "      <td>2.279943</td>\n",
       "      <td>2.493098</td>\n",
       "      <td>2.717125</td>\n",
       "      <td>2.952492</td>\n",
       "    </tr>\n",
       "  </tbody>\n",
       "</table>\n",
       "<p>2 rows × 51 columns</p>\n",
       "</div>"
      ],
      "text/plain": [
       "       0         1         2         3         4         5         6   \\\n",
       "x     0.0  0.020000  0.040000  0.060000  0.080000  0.100000  0.120000   \n",
       "u_an -1.0 -0.999389 -0.997513 -0.994303 -0.989687 -0.983593 -0.975942   \n",
       "\n",
       "            7         8         9   ...       41        42        43       44  \\\n",
       "x     0.140000  0.160000  0.180000  ...  0.82000  0.840000  0.860000  0.88000   \n",
       "u_an -0.966653 -0.955643 -0.942824  ...  1.20548  1.362203  1.527365  1.70133   \n",
       "\n",
       "            45        46        47        48        49        50  \n",
       "x     0.900000  0.920000  0.940000  0.960000  0.980000  1.000000  \n",
       "u_an  1.884481  2.077214  2.279943  2.493098  2.717125  2.952492  \n",
       "\n",
       "[2 rows x 51 columns]"
      ]
     },
     "execution_count": 36,
     "metadata": {},
     "output_type": "execute_result"
    }
   ],
   "source": [
    "def u_an(x):\n",
    "    u_an = math.exp(x)*(x - 1) + (math.exp(x) - 1)**2\n",
    "    return u_an\n",
    "L = 50\n",
    "h = 1/L\n",
    "x = []\n",
    "k = 0\n",
    "for i in range(L+1):\n",
    "    x.append(k)\n",
    "    k += h\n",
    "\n",
    "y = []    \n",
    "for i in range(len(x)):\n",
    "    y.append(u_an(x[i]))\n",
    "\n",
    "plt.figure()\n",
    "plt.title('Аналитическое решение, t = 1')\n",
    "plt.xlabel('x')\n",
    "plt.ylabel('u_a')\n",
    "plt.plot(x, y)\n",
    "plt.show() \n",
    "\n",
    "df =pd.DataFrame({\"x\": x, \"u_an\": y})\n",
    "df.T\n"
   ]
  },
  {
   "cell_type": "markdown",
   "metadata": {},
   "source": [
    "Проделав необходимые вычисления, убедились, что разностная схема аппроксимирует со вторым порядком. Получили дополнительное условие: $[u]_{1}^{n} = (t^{n} - 1)^{2} - 1 + he^{x}(2(t^{n} - 1) + x)$"
   ]
  },
  {
   "cell_type": "code",
   "execution_count": 37,
   "metadata": {},
   "outputs": [],
   "source": [
    "def u_analit(x, t):\n",
    "    u_analit = math.exp(x)*(x - 1) + (math.exp(x) - t)**2\n",
    "    return u_analit"
   ]
  },
  {
   "cell_type": "code",
   "execution_count": 273,
   "metadata": {},
   "outputs": [],
   "source": [
    "#Зададим сетку\n",
    "L = 20\n",
    "M = 20\n",
    "h = 1/L\n",
    "tau = 1/M\n",
    "x = []\n",
    "t = []\n",
    "k = 0\n",
    "s = 0\n",
    "for i in range(L+1):\n",
    "    x.append(k)\n",
    "    k += h\n",
    "for i in range(M+1):\n",
    "    t.append(s)\n",
    "    s += tau\n",
    "\n",
    "#print(x)    \n",
    "net = []"
   ]
  },
  {
   "cell_type": "code",
   "execution_count": 274,
   "metadata": {},
   "outputs": [],
   "source": [
    "for i in range(L+1):\n",
    "    arr = []\n",
    "    for j in range(M+1):\n",
    "        arr.append(u_analit(x[i], t[j]))\n",
    "    net.append(arr)"
   ]
  },
  {
   "cell_type": "code",
   "execution_count": 275,
   "metadata": {},
   "outputs": [],
   "source": [
    "#задали сетку для решения разностной схемы\n",
    "net_diff = []\n",
    "for i in range(L+1):\n",
    "    arr = []\n",
    "    for j in range(M+1):\n",
    "        arr.append(0)\n",
    "    net_diff.append(arr)\n",
    "#посчитаем значения сеточной функции с помощью граничных условий\n",
    "for i in range(2):\n",
    "    for j in range(M+1):\n",
    "        if (i==0):\n",
    "            net_diff[i][j] = (t[j] - 1)**2 - 1\n",
    "        if (i==1):\n",
    "            net_diff[i][j] = (t[j] - 1)**2 - 1 + h*(math.exp(x[i]))*(x[i] - 2*(t[j] - 1))\n",
    "\n",
    "for j in range(1):\n",
    "    for i in range(M+1):\n",
    "        net_diff[i][j] = math.exp(2*x[i]) + (x[i] - 1)*(math.exp(x[i]))\n",
    "            \n",
    "#посчитаем сеточную функцию во внутренних точках\n",
    "\n",
    "for i in range(2, L+1):\n",
    "    for j in range(0, M):\n",
    "        net_diff[i][j+1] = net_diff[i][j] + (tau/(2*h))*(math.exp(-x[i]))*(1 + (tau/2)*(math.exp(-x[i])))*(- net_diff[i-2][j] + 4*net_diff[i-1][j] - 3*net_diff[i][j]) + ((tau**2)/(2*(h**2)))*(math.exp(-2*x[i]))*(net_diff[i-2][j] - 2*net_diff[i-1][j] + net_diff[i][j]) + tau*(x[i] - tau/2*(math.exp(-x[i])))\n",
    "            \n",
    "#print(net_diff)"
   ]
  },
  {
   "cell_type": "code",
   "execution_count": 276,
   "metadata": {},
   "outputs": [],
   "source": [
    "#построим графики аналитического и численных методов на одном из временных слоев, и найдем максимальное расхождение сеточных функций\n",
    "max_diff = []\n",
    "for i in range(L+1):\n",
    "    max_elem = 0\n",
    "    for j in range(M+1):\n",
    "        s = abs(net_diff[i][j] - net[i][j])\n",
    "        if (s > max_elem):\n",
    "            max_elem = s\n",
    "    max_diff.append(max_elem)\n",
    "#print(max_diff)"
   ]
  },
  {
   "cell_type": "code",
   "execution_count": 277,
   "metadata": {},
   "outputs": [],
   "source": [
    "#разность аналитического и разностного решений на 5 временном слое\n",
    "abs_t = []\n",
    "for i in range(L+1):\n",
    "    s = abs(net_diff[i][5] - net[i][5])\n",
    "    abs_t.append(s)\n",
    "#print(abs_t)"
   ]
  },
  {
   "cell_type": "code",
   "execution_count": 278,
   "metadata": {},
   "outputs": [
    {
     "name": "stdout",
     "output_type": "stream",
     "text": [
      "max error = 0.005036027513881436\n"
     ]
    },
    {
     "data": {
      "image/png": "[encoded data removed]",
      "text/plain": [
       "<Figure size 432x288 with 1 Axes>"
      ]
     },
     "metadata": {
      "needs_background": "light"
     },
     "output_type": "display_data"
    },
    {
     "data": {
      "text/html": [
       "<div>\n",
       "<style scoped>\n",
       "    .dataframe tbody tr th:only-of-type {\n",
       "        vertical-align: middle;\n",
       "    }\n",
       "\n",
       "    .dataframe tbody tr th {\n",
       "        vertical-align: top;\n",
       "    }\n",
       "\n",
       "    .dataframe thead th {\n",
       "        text-align: right;\n",
       "    }\n",
       "</style>\n",
       "<table border=\"1\" class=\"dataframe\">\n",
       "  <thead>\n",
       "    <tr style=\"text-align: right;\">\n",
       "      <th></th>\n",
       "      <th>0</th>\n",
       "      <th>1</th>\n",
       "      <th>2</th>\n",
       "      <th>3</th>\n",
       "      <th>4</th>\n",
       "      <th>5</th>\n",
       "      <th>6</th>\n",
       "      <th>7</th>\n",
       "      <th>8</th>\n",
       "      <th>9</th>\n",
       "      <th>...</th>\n",
       "      <th>11</th>\n",
       "      <th>12</th>\n",
       "      <th>13</th>\n",
       "      <th>14</th>\n",
       "      <th>15</th>\n",
       "      <th>16</th>\n",
       "      <th>17</th>\n",
       "      <th>18</th>\n",
       "      <th>19</th>\n",
       "      <th>20</th>\n",
       "    </tr>\n",
       "  </thead>\n",
       "  <tbody>\n",
       "    <tr>\n",
       "      <th>x</th>\n",
       "      <td>0.0000</td>\n",
       "      <td>0.050000</td>\n",
       "      <td>0.100000</td>\n",
       "      <td>0.150000</td>\n",
       "      <td>0.200000</td>\n",
       "      <td>0.250000</td>\n",
       "      <td>0.300000</td>\n",
       "      <td>0.350000</td>\n",
       "      <td>0.400000</td>\n",
       "      <td>0.450000</td>\n",
       "      <td>...</td>\n",
       "      <td>0.550000</td>\n",
       "      <td>0.600000</td>\n",
       "      <td>0.650000</td>\n",
       "      <td>0.700000</td>\n",
       "      <td>0.750000</td>\n",
       "      <td>0.800000</td>\n",
       "      <td>0.850000</td>\n",
       "      <td>0.900000</td>\n",
       "      <td>0.950000</td>\n",
       "      <td>1.000000</td>\n",
       "    </tr>\n",
       "    <tr>\n",
       "      <th>u_an</th>\n",
       "      <td>-0.4375</td>\n",
       "      <td>-0.356672</td>\n",
       "      <td>-0.263337</td>\n",
       "      <td>-0.156117</td>\n",
       "      <td>-0.033499</td>\n",
       "      <td>0.106189</td>\n",
       "      <td>0.264788</td>\n",
       "      <td>0.444325</td>\n",
       "      <td>0.647034</td>\n",
       "      <td>0.875375</td>\n",
       "      <td>...</td>\n",
       "      <td>1.420076</td>\n",
       "      <td>1.742710</td>\n",
       "      <td>2.103587</td>\n",
       "      <td>2.506698</td>\n",
       "      <td>2.956439</td>\n",
       "      <td>3.457654</td>\n",
       "      <td>4.015677</td>\n",
       "      <td>4.636386</td>\n",
       "      <td>5.326254</td>\n",
       "      <td>6.092415</td>\n",
       "    </tr>\n",
       "    <tr>\n",
       "      <th>u_diff</th>\n",
       "      <td>-0.4375</td>\n",
       "      <td>-0.356026</td>\n",
       "      <td>-0.262665</td>\n",
       "      <td>-0.155434</td>\n",
       "      <td>-0.032804</td>\n",
       "      <td>0.106558</td>\n",
       "      <td>0.263897</td>\n",
       "      <td>0.444051</td>\n",
       "      <td>0.646829</td>\n",
       "      <td>0.875317</td>\n",
       "      <td>...</td>\n",
       "      <td>1.420318</td>\n",
       "      <td>1.743113</td>\n",
       "      <td>2.104158</td>\n",
       "      <td>2.507443</td>\n",
       "      <td>2.957366</td>\n",
       "      <td>3.458771</td>\n",
       "      <td>4.016992</td>\n",
       "      <td>4.637908</td>\n",
       "      <td>5.327993</td>\n",
       "      <td>6.094380</td>\n",
       "    </tr>\n",
       "    <tr>\n",
       "      <th>abs</th>\n",
       "      <td>0.0000</td>\n",
       "      <td>0.000646</td>\n",
       "      <td>0.000671</td>\n",
       "      <td>0.000684</td>\n",
       "      <td>0.000695</td>\n",
       "      <td>0.000368</td>\n",
       "      <td>0.000892</td>\n",
       "      <td>0.000274</td>\n",
       "      <td>0.000205</td>\n",
       "      <td>0.000059</td>\n",
       "      <td>...</td>\n",
       "      <td>0.000243</td>\n",
       "      <td>0.000403</td>\n",
       "      <td>0.000571</td>\n",
       "      <td>0.000745</td>\n",
       "      <td>0.000927</td>\n",
       "      <td>0.001117</td>\n",
       "      <td>0.001315</td>\n",
       "      <td>0.001522</td>\n",
       "      <td>0.001738</td>\n",
       "      <td>0.001964</td>\n",
       "    </tr>\n",
       "    <tr>\n",
       "      <th>max diff</th>\n",
       "      <td>0.0000</td>\n",
       "      <td>0.001293</td>\n",
       "      <td>0.001352</td>\n",
       "      <td>0.001327</td>\n",
       "      <td>0.001276</td>\n",
       "      <td>0.001199</td>\n",
       "      <td>0.001092</td>\n",
       "      <td>0.000953</td>\n",
       "      <td>0.000924</td>\n",
       "      <td>0.000792</td>\n",
       "      <td>...</td>\n",
       "      <td>0.000530</td>\n",
       "      <td>0.000694</td>\n",
       "      <td>0.000917</td>\n",
       "      <td>0.001181</td>\n",
       "      <td>0.001552</td>\n",
       "      <td>0.002059</td>\n",
       "      <td>0.002675</td>\n",
       "      <td>0.003384</td>\n",
       "      <td>0.004237</td>\n",
       "      <td>0.005036</td>\n",
       "    </tr>\n",
       "  </tbody>\n",
       "</table>\n",
       "<p>5 rows × 21 columns</p>\n",
       "</div>"
      ],
      "text/plain": [
       "              0         1         2         3         4         5         6   \\\n",
       "x         0.0000  0.050000  0.100000  0.150000  0.200000  0.250000  0.300000   \n",
       "u_an     -0.4375 -0.356672 -0.263337 -0.156117 -0.033499  0.106189  0.264788   \n",
       "u_diff   -0.4375 -0.356026 -0.262665 -0.155434 -0.032804  0.106558  0.263897   \n",
       "abs       0.0000  0.000646  0.000671  0.000684  0.000695  0.000368  0.000892   \n",
       "max diff  0.0000  0.001293  0.001352  0.001327  0.001276  0.001199  0.001092   \n",
       "\n",
       "                7         8         9   ...        11        12        13  \\\n",
       "x         0.350000  0.400000  0.450000  ...  0.550000  0.600000  0.650000   \n",
       "u_an      0.444325  0.647034  0.875375  ...  1.420076  1.742710  2.103587   \n",
       "u_diff    0.444051  0.646829  0.875317  ...  1.420318  1.743113  2.104158   \n",
       "abs       0.000274  0.000205  0.000059  ...  0.000243  0.000403  0.000571   \n",
       "max diff  0.000953  0.000924  0.000792  ...  0.000530  0.000694  0.000917   \n",
       "\n",
       "                14        15        16        17        18        19        20  \n",
       "x         0.700000  0.750000  0.800000  0.850000  0.900000  0.950000  1.000000  \n",
       "u_an      2.506698  2.956439  3.457654  4.015677  4.636386  5.326254  6.092415  \n",
       "u_diff    2.507443  2.957366  3.458771  4.016992  4.637908  5.327993  6.094380  \n",
       "abs       0.000745  0.000927  0.001117  0.001315  0.001522  0.001738  0.001964  \n",
       "max diff  0.001181  0.001552  0.002059  0.002675  0.003384  0.004237  0.005036  \n",
       "\n",
       "[5 rows x 21 columns]"
      ]
     },
     "execution_count": 278,
     "metadata": {},
     "output_type": "execute_result"
    }
   ],
   "source": [
    "analyt_t = []\n",
    "diff_t = []\n",
    "\n",
    "for i in range(L+1):\n",
    "    analyt_t.append(net[i][5])\n",
    "\n",
    "for i in range(L+1):\n",
    "    diff_t.append(net_diff[i][5])\n",
    "    \n",
    "max_d = max(max_diff)\n",
    "print('max error =', max_d)\n",
    "\n",
    "plt.figure()\n",
    "plt.title('Аналитическое и численное решения, n = 5')\n",
    "plt.xlabel('x')\n",
    "plt.ylabel('u')\n",
    "plt.plot(x, analyt_t)\n",
    "plt.plot(x, diff_t)\n",
    "plt.show() \n",
    "\n",
    "df =pd.DataFrame({\"x\": x, \"u_an\": analyt_t, \"u_diff\": diff_t, \"abs\": abs_t, \"max diff\": max_diff})\n",
    "df.T"
   ]
  },
  {
   "cell_type": "markdown",
   "metadata": {},
   "source": [
    "Проверим схему на апроксимацию увеличивая шаг по x и t в два раза. Найдем ошибку как норму разности численного решения и аналитического, затем построим график  log(𝑒𝑟𝑟)  от  log(ℎ+𝜏)  и убедимся, что его коэффицент наклона должен быть близок к 2, т.к. наша схема аппроксимирует дифф задачу со вторым порядком"
   ]
  },
  {
   "cell_type": "code",
   "execution_count": 279,
   "metadata": {},
   "outputs": [],
   "source": [
    "err = [0.018927608721494682, 0.005036027513881436, 0.0012806701403049736, 0.0003233470084937906, 8.119692218544472e-05, 2.03444617561388e-05]\n",
    "hplust = [0.2, 0.1, 0.05, 0.025, 0.0125, 0.00625]\n",
    "\n",
    "x = np.log(hplust)\n",
    "y = np.log(err)"
   ]
  },
  {
   "cell_type": "code",
   "execution_count": 280,
   "metadata": {},
   "outputs": [
    {
     "data": {
      "text/plain": [
       "array([ 1.97594564, -0.75857908])"
      ]
     },
     "execution_count": 280,
     "metadata": {},
     "output_type": "execute_result"
    }
   ],
   "source": [
    "z = np.polyfit(x, y, deg=1)\n",
    "z"
   ]
  },
  {
   "cell_type": "markdown",
   "metadata": {},
   "source": [
    "Следовательно, получаем, что порядок аппроксимации почти равен 2, что совпадает с данными, полученными при расчете"
   ]
  },
  {
   "cell_type": "markdown",
   "metadata": {},
   "source": [
    "С помощью спектрального признака с использованием принципа замороженных коэффициентов, получили: $\\tau < \\frac{2h}{max(a)} \\leftrightarrow \\tau < h \\leftrightarrow \\frac{\\tau}{h}<1$"
   ]
  },
  {
   "cell_type": "code",
   "execution_count": null,
   "metadata": {},
   "outputs": [],
   "source": [
    "\n"
   ]
  }
 ],
 "metadata": {
  "kernelspec": {
   "display_name": "Python 3",
   "language": "python",
   "name": "python3"
  },
  "language_info": {
   "codemirror_mode": {
    "name": "ipython",
    "version": 3
   },
   "file_extension": ".py",
   "mimetype": "text/x-python",
   "name": "python",
   "nbconvert_exporter": "python",
   "pygments_lexer": "ipython3",
   "version": "3.8.5"
  }
 },
 "nbformat": 4,
 "nbformat_minor": 4
}
