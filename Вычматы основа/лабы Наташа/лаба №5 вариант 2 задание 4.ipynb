{
 "cells": [
  {
   "cell_type": "markdown",
   "metadata": {},
   "source": [
    "$$\n",
    "\\begin{cases}\n",
    "\\frac{\\partial u}{\\partial t} + (t+6) \\frac{\\partial u}{\\partial x} = 0, \\; 0<t \\leq 1, \\; \n",
    "0 < x \\leq 1\\\\\n",
    "u(x, 0) = x, \\; \\; u(0, t) = -0.5t^2 - 6t\n",
    "\\end{cases}\n",
    "$$"
   ]
  },
  {
   "cell_type": "markdown",
   "metadata": {},
   "source": [
    "Разностная схема:"
   ]
  },
  {
   "cell_type": "markdown",
   "metadata": {},
   "source": [
    "$$\n",
    "\\begin{cases}\n",
    "u_l^{n+1} = u_l^n + (\\frac{\\tau_n}{2}+t^n+6)\\frac{\\tau_n}{2h}(-u_{l-2}^n+4u_{l-1}^n-3u_l^n)\n",
    "+ \\frac{(t^n + 6)^2\\tau_n^2}{2h^2}(u_{l-2}^n-2u_{l-1}^n+u_l^n), \\\\\n",
    "l = \\overline{2, L}, \\;\n",
    "n = \\overline{0, N-1} \\\\\n",
    "u_l^0 =x_l, \\; l = \\overline{0, L}, \\; u_0^n=-0.5(t^n)^2 -6t^n, \\; n = \\overline{1, N} \\\\\n",
    "u_{1}^n = ? , \\; n = \\overline{1, N}.\n",
    "\\end{cases}\n",
    "$$"
   ]
  },
  {
   "cell_type": "markdown",
   "metadata": {},
   "source": [
    "Аналитическое решение:"
   ]
  },
  {
   "cell_type": "markdown",
   "metadata": {},
   "source": [
    "$$\n",
    "u(x,t) = x - \\frac{t^2}{2}-6t\n",
    "$$"
   ]
  },
  {
   "cell_type": "code",
   "execution_count": 14,
   "metadata": {},
   "outputs": [],
   "source": [
    "import numpy as np\n",
    "import matplotlib\n",
    "import matplotlib.pyplot as plt\n",
    "import pandas as pd"
   ]
  },
  {
   "cell_type": "code",
   "execution_count": 15,
   "metadata": {},
   "outputs": [
    {
     "data": {
      "image/png": "[encoded data removed]",
      "text/plain": [
       "<Figure size 432x288 with 1 Axes>"
      ]
     },
     "metadata": {
      "needs_background": "light"
     },
     "output_type": "display_data"
    },
    {
     "data": {
      "text/html": [
       "<div>\n",
       "<style scoped>\n",
       "    .dataframe tbody tr th:only-of-type {\n",
       "        vertical-align: middle;\n",
       "    }\n",
       "\n",
       "    .dataframe tbody tr th {\n",
       "        vertical-align: top;\n",
       "    }\n",
       "\n",
       "    .dataframe thead th {\n",
       "        text-align: right;\n",
       "    }\n",
       "</style>\n",
       "<table border=\"1\" class=\"dataframe\">\n",
       "  <thead>\n",
       "    <tr style=\"text-align: right;\">\n",
       "      <th></th>\n",
       "      <th>0</th>\n",
       "      <th>1</th>\n",
       "      <th>2</th>\n",
       "      <th>3</th>\n",
       "      <th>4</th>\n",
       "      <th>5</th>\n",
       "      <th>6</th>\n",
       "      <th>7</th>\n",
       "      <th>8</th>\n",
       "      <th>9</th>\n",
       "      <th>10</th>\n",
       "    </tr>\n",
       "  </thead>\n",
       "  <tbody>\n",
       "    <tr>\n",
       "      <td>x</td>\n",
       "      <td>0.00000E+00</td>\n",
       "      <td>1.00000E-01</td>\n",
       "      <td>2.00000E-01</td>\n",
       "      <td>3.00000E-01</td>\n",
       "      <td>4.00000E-01</td>\n",
       "      <td>5.00000E-01</td>\n",
       "      <td>6.00000E-01</td>\n",
       "      <td>7.00000E-01</td>\n",
       "      <td>8.00000E-01</td>\n",
       "      <td>9.00000E-01</td>\n",
       "      <td>1.00000E+00</td>\n",
       "    </tr>\n",
       "    <tr>\n",
       "      <td>y</td>\n",
       "      <td>-6.50000E+00</td>\n",
       "      <td>-6.40000E+00</td>\n",
       "      <td>-6.30000E+00</td>\n",
       "      <td>-6.20000E+00</td>\n",
       "      <td>-6.10000E+00</td>\n",
       "      <td>-6.00000E+00</td>\n",
       "      <td>-5.90000E+00</td>\n",
       "      <td>-5.80000E+00</td>\n",
       "      <td>-5.70000E+00</td>\n",
       "      <td>-5.60000E+00</td>\n",
       "      <td>-5.50000E+00</td>\n",
       "    </tr>\n",
       "  </tbody>\n",
       "</table>\n",
       "</div>"
      ],
      "text/plain": [
       "             0            1            2            3            4  \\\n",
       "x  0.00000E+00  1.00000E-01  2.00000E-01  3.00000E-01  4.00000E-01   \n",
       "y -6.50000E+00 -6.40000E+00 -6.30000E+00 -6.20000E+00 -6.10000E+00   \n",
       "\n",
       "             5            6            7            8            9  \\\n",
       "x  5.00000E-01  6.00000E-01  7.00000E-01  8.00000E-01  9.00000E-01   \n",
       "y -6.00000E+00 -5.90000E+00 -5.80000E+00 -5.70000E+00 -5.60000E+00   \n",
       "\n",
       "            10  \n",
       "x  1.00000E+00  \n",
       "y -5.50000E+00  "
      ]
     },
     "execution_count": 15,
     "metadata": {},
     "output_type": "execute_result"
    }
   ],
   "source": [
    "fig, ax = plt.subplots()\n",
    "\n",
    "x = np.linspace(0, 1, 11)\n",
    "t = 1\n",
    "\n",
    "u_a = x - t**2/2 - 6*t\n",
    "\n",
    "plt.grid(True)\n",
    "ax.minorticks_on()\n",
    "ax.grid(which='major', linewidth = 0.75)\n",
    "ax.grid(which='minor', linewidth = 0.5)\n",
    "ax.set_ylabel('u')\n",
    "ax.set_xlabel('x')\n",
    "plt.title('Analytical solution, t = 1.0')\n",
    "plt.plot(x, u_a)\n",
    "plt.show()\n",
    "\n",
    "pd.options.display.float_format = '{:.5E}'.format\n",
    "df =pd.DataFrame({\"x\": x, \"y\": u_a})\n",
    "df.T"
   ]
  },
  {
   "cell_type": "markdown",
   "metadata": {},
   "source": [
    "Дополнительное условие:\n",
    "\n",
    "Из аппроксимации внутренних точек получаем, что:\n",
    "$$\n",
    "\\Vert \\delta f^{(h)} \\Vert \\leq O(\\tau^2)+ O(h^2)\n",
    "$$\n",
    "Тогда\n",
    "$$\n",
    "u_1^n = -\\frac{(t_n)^2}{2}-6t^n+h\n",
    "$$"
   ]
  },
  {
   "cell_type": "code",
   "execution_count": 26,
   "metadata": {},
   "outputs": [],
   "source": [
    "def analyt(x,t):\n",
    "    return  x - t**2/2 - 6*t"
   ]
  },
  {
   "cell_type": "code",
   "execution_count": 27,
   "metadata": {},
   "outputs": [],
   "source": [
    "def U_analyt(N, L, x, t):   \n",
    "    t_a = []\n",
    "    for i in range(N+1):\n",
    "        for j in range(L+1):\n",
    "            t_a.append(t[i])\n",
    "    t_a = np.array(t_a)\n",
    "\n",
    "    x_a = np.array([])\n",
    "    for i in range(N+1):\n",
    "        x_a = np.concatenate((x_a,x))\n",
    "\n",
    "    U_an = np.vectorize(analyt)(x_a,t_a).reshape((N+1,L+1))   \n",
    "\n",
    "    return U_an"
   ]
  },
  {
   "cell_type": "code",
   "execution_count": 58,
   "metadata": {},
   "outputs": [],
   "source": [
    "def U_num(L, N, t, x):\n",
    "\n",
    "    h = 1 / L\n",
    "    tau = 1 / N\n",
    "\n",
    "    U = [[0 for i in range(L+1)] for j in range(N+1)]\n",
    "\n",
    "    for l in range(L+1):\n",
    "        U[0][l] = x[l]\n",
    "    \n",
    "    for n in range(1, N+1):\n",
    "        U[n][0] = -0,5*t[n]**2 - 6*t[n]\n",
    "        U[n][1] = -t[n]**2/2-6*t[n]+h\n",
    "    \n",
    "    for n in range(N):\n",
    "        for l in range(2,L+1):\n",
    "            U[n+1][l] = U[n][l] - tau/(2*h)*(tau/2 + t[n] + 6)*(4*U[n][l-1] - 1*U[n][l-2] - 3*U[n][l]) + (tau**2 * (t[n]+6)**2)/(2*h**2)*(U[n][l-2] -2*U[n][l-1] + U[n][l])\n",
    "    \n",
    "    return U"
   ]
  },
  {
   "cell_type": "code",
   "execution_count": 59,
   "metadata": {},
   "outputs": [],
   "source": [
    "def graph(L, N):\n",
    "    x = np.arange(0,1+1/(100*L),1/L)\n",
    "    t = np.arange(0,1+1/(100*N),1/N)\n",
    "    u_calcul = U_num(L, N, t)\n",
    "    u_analytic = U_analyt(N, L, x, t)\n",
    "\n",
    "    plt.figure(figsize=(12,12))\n",
    "    plt.scatter(x, u_analytic, color='red',  label= 'График аналитического решения')\n",
    "    plt.plot(x, u_analytic, color='red')\n",
    "    plt.scatter(x, u_calcul, color='blue', label= 'Численное решение')\n",
    "    plt.plot(x, u_calcul, color='blue')\n",
    "    plt.ylabel('u(x)')\n",
    "    plt.xlabel('x')\n",
    "    plt.legend()\n",
    "    plt.grid()\n",
    "    plt.show()"
   ]
  },
  {
   "cell_type": "code",
   "execution_count": 60,
   "metadata": {
    "scrolled": false
   },
   "outputs": [
    {
     "ename": "TypeError",
     "evalue": "U_num() missing 1 required positional argument: 'x'",
     "output_type": "error",
     "traceback": [
      "\u001b[1;31m---------------------------------------------------------------------------\u001b[0m",
      "\u001b[1;31mTypeError\u001b[0m                                 Traceback (most recent call last)",
      "\u001b[1;32m<ipython-input-60-7f45fab92060>\u001b[0m in \u001b[0;36m<module>\u001b[1;34m\u001b[0m\n\u001b[0;32m      1\u001b[0m \u001b[0mL\u001b[0m \u001b[1;33m=\u001b[0m \u001b[1;36m10\u001b[0m\u001b[1;33m\u001b[0m\u001b[1;33m\u001b[0m\u001b[0m\n\u001b[0;32m      2\u001b[0m \u001b[0mN\u001b[0m \u001b[1;33m=\u001b[0m \u001b[1;36m10\u001b[0m\u001b[1;33m\u001b[0m\u001b[1;33m\u001b[0m\u001b[0m\n\u001b[1;32m----> 3\u001b[1;33m \u001b[0mgraph\u001b[0m\u001b[1;33m(\u001b[0m\u001b[0mL\u001b[0m\u001b[1;33m,\u001b[0m \u001b[0mN\u001b[0m\u001b[1;33m)\u001b[0m\u001b[1;33m\u001b[0m\u001b[1;33m\u001b[0m\u001b[0m\n\u001b[0m",
      "\u001b[1;32m<ipython-input-59-bd92edfc48de>\u001b[0m in \u001b[0;36mgraph\u001b[1;34m(L, N)\u001b[0m\n\u001b[0;32m      2\u001b[0m     \u001b[0mx\u001b[0m \u001b[1;33m=\u001b[0m \u001b[0mnp\u001b[0m\u001b[1;33m.\u001b[0m\u001b[0marange\u001b[0m\u001b[1;33m(\u001b[0m\u001b[1;36m0\u001b[0m\u001b[1;33m,\u001b[0m\u001b[1;36m1\u001b[0m\u001b[1;33m+\u001b[0m\u001b[1;36m1\u001b[0m\u001b[1;33m/\u001b[0m\u001b[1;33m(\u001b[0m\u001b[1;36m100\u001b[0m\u001b[1;33m*\u001b[0m\u001b[0mL\u001b[0m\u001b[1;33m)\u001b[0m\u001b[1;33m,\u001b[0m\u001b[1;36m1\u001b[0m\u001b[1;33m/\u001b[0m\u001b[0mL\u001b[0m\u001b[1;33m)\u001b[0m\u001b[1;33m\u001b[0m\u001b[1;33m\u001b[0m\u001b[0m\n\u001b[0;32m      3\u001b[0m     \u001b[0mt\u001b[0m \u001b[1;33m=\u001b[0m \u001b[0mnp\u001b[0m\u001b[1;33m.\u001b[0m\u001b[0marange\u001b[0m\u001b[1;33m(\u001b[0m\u001b[1;36m0\u001b[0m\u001b[1;33m,\u001b[0m\u001b[1;36m1\u001b[0m\u001b[1;33m+\u001b[0m\u001b[1;36m1\u001b[0m\u001b[1;33m/\u001b[0m\u001b[1;33m(\u001b[0m\u001b[1;36m100\u001b[0m\u001b[1;33m*\u001b[0m\u001b[0mN\u001b[0m\u001b[1;33m)\u001b[0m\u001b[1;33m,\u001b[0m\u001b[1;36m1\u001b[0m\u001b[1;33m/\u001b[0m\u001b[0mN\u001b[0m\u001b[1;33m)\u001b[0m\u001b[1;33m\u001b[0m\u001b[1;33m\u001b[0m\u001b[0m\n\u001b[1;32m----> 4\u001b[1;33m     \u001b[0mu_calcul\u001b[0m \u001b[1;33m=\u001b[0m \u001b[0mU_num\u001b[0m\u001b[1;33m(\u001b[0m\u001b[0mL\u001b[0m\u001b[1;33m,\u001b[0m \u001b[0mN\u001b[0m\u001b[1;33m,\u001b[0m \u001b[0mt\u001b[0m\u001b[1;33m)\u001b[0m\u001b[1;33m\u001b[0m\u001b[1;33m\u001b[0m\u001b[0m\n\u001b[0m\u001b[0;32m      5\u001b[0m     \u001b[0mu_analytic\u001b[0m \u001b[1;33m=\u001b[0m \u001b[0mU_analyt\u001b[0m\u001b[1;33m(\u001b[0m\u001b[0mN\u001b[0m\u001b[1;33m,\u001b[0m \u001b[0mL\u001b[0m\u001b[1;33m,\u001b[0m \u001b[0mx\u001b[0m\u001b[1;33m,\u001b[0m \u001b[0mt\u001b[0m\u001b[1;33m)\u001b[0m\u001b[1;33m\u001b[0m\u001b[1;33m\u001b[0m\u001b[0m\n\u001b[0;32m      6\u001b[0m \u001b[1;33m\u001b[0m\u001b[0m\n",
      "\u001b[1;31mTypeError\u001b[0m: U_num() missing 1 required positional argument: 'x'"
     ]
    }
   ],
   "source": [
    "L = 10\n",
    "N = 10\n",
    "graph(L, N)"
   ]
  },
  {
   "cell_type": "code",
   "execution_count": 61,
   "metadata": {},
   "outputs": [
    {
     "ename": "TypeError",
     "evalue": "U_num() missing 2 required positional arguments: 't' and 'x'",
     "output_type": "error",
     "traceback": [
      "\u001b[1;31m---------------------------------------------------------------------------\u001b[0m",
      "\u001b[1;31mTypeError\u001b[0m                                 Traceback (most recent call last)",
      "\u001b[1;32m<ipython-input-61-f69754a6c44a>\u001b[0m in \u001b[0;36m<module>\u001b[1;34m\u001b[0m\n\u001b[0;32m      5\u001b[0m \u001b[0mFigure\u001b[0m\u001b[1;33m.\u001b[0m\u001b[0mset_figheight\u001b[0m\u001b[1;33m(\u001b[0m\u001b[1;36m5\u001b[0m\u001b[1;33m)\u001b[0m\u001b[1;33m\u001b[0m\u001b[1;33m\u001b[0m\u001b[0m\n\u001b[0;32m      6\u001b[0m \u001b[0mplt\u001b[0m\u001b[1;33m.\u001b[0m\u001b[0mtitle\u001b[0m\u001b[1;33m(\u001b[0m\u001b[1;34m'u(x,t), numerical solution'\u001b[0m\u001b[1;33m)\u001b[0m\u001b[1;33m\u001b[0m\u001b[1;33m\u001b[0m\u001b[0m\n\u001b[1;32m----> 7\u001b[1;33m \u001b[0mplt\u001b[0m\u001b[1;33m.\u001b[0m\u001b[0mimshow\u001b[0m\u001b[1;33m(\u001b[0m\u001b[0mU_num\u001b[0m\u001b[1;33m(\u001b[0m\u001b[1;36m1000\u001b[0m\u001b[1;33m,\u001b[0m \u001b[1;36m1000\u001b[0m\u001b[1;33m)\u001b[0m\u001b[1;33m)\u001b[0m\u001b[1;33m\u001b[0m\u001b[1;33m\u001b[0m\u001b[0m\n\u001b[0m",
      "\u001b[1;31mTypeError\u001b[0m: U_num() missing 2 required positional arguments: 't' and 'x'"
     ]
    },
    {
     "data": {
      "image/png": "[encoded data removed]",
      "text/plain": [
       "<Figure size 720x360 with 1 Axes>"
      ]
     },
     "metadata": {
      "needs_background": "light"
     },
     "output_type": "display_data"
    }
   ],
   "source": [
    "# NUMERICAL SOLUTION PLOT\n",
    "\n",
    "Figure = plt.figure()\n",
    "Figure.set_figwidth(10)\n",
    "Figure.set_figheight(5)\n",
    "plt.title('u(x,t), numerical solution')\n",
    "plt.imshow(U_num(1000, 1000))"
   ]
  },
  {
   "cell_type": "code",
   "execution_count": null,
   "metadata": {},
   "outputs": [],
   "source": []
  }
 ],
 "metadata": {
  "kernelspec": {
   "display_name": "Python 3",
   "language": "python",
   "name": "python3"
  },
  "language_info": {
   "codemirror_mode": {
    "name": "ipython",
    "version": 3
   },
   "file_extension": ".py",
   "mimetype": "text/x-python",
   "name": "python",
   "nbconvert_exporter": "python",
   "pygments_lexer": "ipython3",
   "version": "3.7.4"
  }
 },
 "nbformat": 4,
 "nbformat_minor": 2
}
