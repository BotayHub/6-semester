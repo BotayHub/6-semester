{
 "cells": [
  {
   "cell_type": "markdown",
   "metadata": {},
   "source": [
    "# Лабораторная работа №5\n",
    "## Вариант 2\n",
    "### Задание 15"
   ]
  },
  {
   "cell_type": "markdown",
   "metadata": {},
   "source": [
    "$$\n",
    "\\begin{cases}\n",
    "\\frac{\\partial u}{\\partial t} - (x + e^{-t}) \\frac{\\partial u}{\\partial x} = x(x + e^{-t}), \\; 0<t \\leq 1, \\; \n",
    "0 < x \\leq 1\\\\\n",
    "u(x, 0) = - \\frac{x^2}{2} + x, \\; \\; u(1, t) = e^{t} + t - 0.5\n",
    "\\end{cases}\n",
    "$$"
   ]
  },
  {
   "cell_type": "markdown",
   "metadata": {},
   "source": [
    "Разностная схема"
   ]
  },
  {
   "cell_type": "markdown",
   "metadata": {},
   "source": [
    "$$\n",
    "\\begin{cases}\n",
    "u_l^{n+1} = u_l^n - \\frac{\\tau}{2h}(x_l + e^{-t^n} + \\frac{\\tau_n}{2}x_l)(u_{l+2}^n-4u^n_{l+1}+3u_{l}^n) \n",
    "+ \\frac{ \\tau^2}{2h^2}(x_l + e^{-t^n})(u_{l+2}^n -2u_{l+1}^n +u_{l}^n) \n",
    "+ \\tau_n (x_l(x_l + e^{-t^n}) +\\frac{\\tau_n}{2}(2x_l^2 +2x_le^{-t^n} + e^{-2t^n}) ), \\\\\n",
    "l = \\overline{0, L-2}, \\;\n",
    "n = \\overline{0, N-1} \\\\\n",
    "u_l^0 = -0.5x_l^2 + x_l, \\; l = \\overline{0, L}, \\; u_L^n=e^{t^n} + t^n - 0.5, \\; n = \\overline{1, N} \\\\\n",
    "u_{L-1}^n = ? \n",
    "\\end{cases}\n",
    "$$"
   ]
  },
  {
   "cell_type": "markdown",
   "metadata": {},
   "source": [
    "Аналитическое решение:\n",
    "$$\n",
    "U = xe^{t} + t - x^2/2\n",
    "$$"
   ]
  },
  {
   "cell_type": "code",
   "execution_count": 2,
   "metadata": {},
   "outputs": [],
   "source": [
    "import numpy as np\n",
    "import matplotlib\n",
    "import matplotlib.pyplot as plt\n",
    "import pandas as pd\n"
   ]
  },
  {
   "cell_type": "code",
   "execution_count": 3,
   "metadata": {},
   "outputs": [
    {
     "data": {
      "image/png": "[encoded data removed]",
      "text/plain": [
       "<Figure size 432x288 with 1 Axes>"
      ]
     },
     "metadata": {
      "needs_background": "light"
     },
     "output_type": "display_data"
    },
    {
     "data": {
      "text/html": [
       "<div>\n",
       "<style scoped>\n",
       "    .dataframe tbody tr th:only-of-type {\n",
       "        vertical-align: middle;\n",
       "    }\n",
       "\n",
       "    .dataframe tbody tr th {\n",
       "        vertical-align: top;\n",
       "    }\n",
       "\n",
       "    .dataframe thead th {\n",
       "        text-align: right;\n",
       "    }\n",
       "</style>\n",
       "<table border=\"1\" class=\"dataframe\">\n",
       "  <thead>\n",
       "    <tr style=\"text-align: right;\">\n",
       "      <th></th>\n",
       "      <th>0</th>\n",
       "      <th>1</th>\n",
       "      <th>2</th>\n",
       "      <th>3</th>\n",
       "      <th>4</th>\n",
       "      <th>5</th>\n",
       "      <th>6</th>\n",
       "      <th>7</th>\n",
       "      <th>8</th>\n",
       "      <th>9</th>\n",
       "      <th>10</th>\n",
       "    </tr>\n",
       "  </thead>\n",
       "  <tbody>\n",
       "    <tr>\n",
       "      <td>x</td>\n",
       "      <td>0.00000E+00</td>\n",
       "      <td>1.00000E-01</td>\n",
       "      <td>2.00000E-01</td>\n",
       "      <td>3.00000E-01</td>\n",
       "      <td>4.00000E-01</td>\n",
       "      <td>5.00000E-01</td>\n",
       "      <td>6.00000E-01</td>\n",
       "      <td>7.00000E-01</td>\n",
       "      <td>8.00000E-01</td>\n",
       "      <td>9.00000E-01</td>\n",
       "      <td>1.00000E+00</td>\n",
       "    </tr>\n",
       "    <tr>\n",
       "      <td>y</td>\n",
       "      <td>1.00000E+00</td>\n",
       "      <td>1.26683E+00</td>\n",
       "      <td>1.52366E+00</td>\n",
       "      <td>1.77048E+00</td>\n",
       "      <td>2.00731E+00</td>\n",
       "      <td>2.23414E+00</td>\n",
       "      <td>2.45097E+00</td>\n",
       "      <td>2.65780E+00</td>\n",
       "      <td>2.85463E+00</td>\n",
       "      <td>3.04145E+00</td>\n",
       "      <td>3.21828E+00</td>\n",
       "    </tr>\n",
       "  </tbody>\n",
       "</table>\n",
       "</div>"
      ],
      "text/plain": [
       "            0           1           2           3           4           5  \\\n",
       "x 0.00000E+00 1.00000E-01 2.00000E-01 3.00000E-01 4.00000E-01 5.00000E-01   \n",
       "y 1.00000E+00 1.26683E+00 1.52366E+00 1.77048E+00 2.00731E+00 2.23414E+00   \n",
       "\n",
       "            6           7           8           9          10  \n",
       "x 6.00000E-01 7.00000E-01 8.00000E-01 9.00000E-01 1.00000E+00  \n",
       "y 2.45097E+00 2.65780E+00 2.85463E+00 3.04145E+00 3.21828E+00  "
      ]
     },
     "execution_count": 3,
     "metadata": {},
     "output_type": "execute_result"
    }
   ],
   "source": [
    "x = np.linspace(0, 1, 11)\n",
    "t = 1\n",
    "\n",
    "u_a = x*np.exp(t) + t - x**2/2\n",
    "plt.title('Analytical solution, t = 1.0')\n",
    "plt.xlabel('x')\n",
    "plt.ylabel('u')\n",
    "plt.plot(x, u_a)\n",
    "plt.show()\n",
    "\n",
    "pd.options.display.float_format = '{:.5E}'.format\n",
    "df =pd.DataFrame({\"x\": x, \"y\": u_a})\n",
    "df.T"
   ]
  },
  {
   "cell_type": "markdown",
   "metadata": {},
   "source": [
    "Из аппроксимации внутренних точек получаем, что:\n",
    "$$\n",
    "\\Vert \\delta f^{(h)} \\Vert \\leq O(\\tau^2)+ O(h^2)\n",
    "$$\n",
    "Т.е. имеем второй порядок аппроксимации\n",
    "\n",
    "Нам нужно условие $[u]_{L-1}^n$ со вторым порядком по h\n",
    "$$[u]_{L-1}^n = [u]_L^n - [u'_x]_L^n h  + O(h^2)$$\n",
    "$$[u]_{L-1}^n = [u]_L^n $$\n",
    "$$[u'_x]_{L}^n =\\frac{[u_t]_L^n}{e^{-t^n} + x_L} - x_L $$\n",
    "$$[u]_{L-1}^n = e^{t^n} + t^n - 0.5 - h(e^{t^n} - 1)$$"
   ]
  },
  {
   "cell_type": "code",
   "execution_count": 4,
   "metadata": {},
   "outputs": [],
   "source": [
    "def analyt(x,t):\n",
    "    return  x*np.exp(t) + t - x**2/2"
   ]
  },
  {
   "cell_type": "code",
   "execution_count": 5,
   "metadata": {},
   "outputs": [],
   "source": [
    "def U_analyt(N, L, x, t):   \n",
    "    t_a = []\n",
    "    for i in range(N+1):\n",
    "        for j in range(L+1):\n",
    "            t_a.append(t[i])\n",
    "    t_a = np.array(t_a)\n",
    "\n",
    "    x_a = np.array([])\n",
    "    for i in range(N+1):\n",
    "        x_a = np.concatenate((x_a,x))\n",
    "\n",
    "    U_an = np.vectorize(analyt)(x_a,t_a).reshape((N+1,L+1))   \n",
    "\n",
    "    return U_an"
   ]
  },
  {
   "cell_type": "code",
   "execution_count": 6,
   "metadata": {},
   "outputs": [],
   "source": [
    "def U_num(N, L, x, t):\n",
    "    \n",
    "    h = 1/L\n",
    "    tau = 1/N\n",
    "    a_x = -(x)\n",
    "    a_t =  - np.exp(-t)\n",
    "    psi = np.exp(t) + t - 0.5\n",
    "    psi_der1 = np.exp(t) + 1\n",
    "\n",
    "    b_x = x\n",
    "    b_t = np.exp(-t)\n",
    "    phi = -x**2/2 + x\n",
    "    \n",
    "    u_der1 =  1/(a_x[L] + a_t) * (-psi_der1 + b_x[L]*(b_x[L] + b_t))\n",
    "#     u_der2 = 1/a**2 * (psi_der2 + a)\n",
    "#     u_der3 = -1/a**3 * psi_der3\n",
    "\n",
    "    \n",
    "    U = np.zeros((N+1,L+1))\n",
    "    U[0] = phi\n",
    "    U.reshape((1,(N+1)*(L+1)))[0][L::L+1] = psi\n",
    "\n",
    "#     h_arr = [h*i for i in range(0,3)]\n",
    "#     for j in range(1,3):\n",
    "#         k = L-j\n",
    "    for i in range(1,N+1):\n",
    "\n",
    "        U[i][L-1] = U[i][L] - u_der1[i] * h \n",
    "\n",
    "\n",
    "    for n in range(N):\n",
    "        for l in range(L-1):\n",
    "            U[n+1][l] = U[n][l] - tau/(2*h)*(x[l] + np.exp(-t[n]) + tau*x[l]/2)*(U[n][l+2] - 4*U[n][l+1] + 3*U[n][l]) + (tau**2)/(2*h**2)*((x[l] +np.exp(-t[n]))**2 )*(U[n][l+2] -2*U[n][l+1] +U[n][l] ) + (tau)*((x[l] +np.exp(-t[n]))*x[l] +tau/2*(2*x[l]**2 + 2*x[l]*np.exp(-t[n]) +np.exp(-2*t[n]) ))\n",
    "\n",
    "    return U"
   ]
  },
  {
   "cell_type": "code",
   "execution_count": 7,
   "metadata": {},
   "outputs": [],
   "source": [
    "def result(L, N): \n",
    "    \n",
    "    h = 1/L\n",
    "    tau = 1/N\n",
    "    \n",
    "\n",
    "    x = np.arange(0,1+1/(100*L),1/L)\n",
    "    t = np.arange(0,1+1/(100*N),1/N)\n",
    "    #a = -(x + np.exp(-t))\n",
    "    pd.set_option('display.float_format', lambda x: '{:.6E}'.format(x))\n",
    "    \n",
    "    value = abs(U_analyt(N,L, x, t)[N]-U_num(N,L,x,t)[N])\n",
    "    data = np.concatenate((x,U_analyt(N,L,x,t)[N],U_num(N,L,x,t)[N], value, [ max(value) for i in range(L+1) ]))\n",
    "    data = data.reshape((5,L+1))\n",
    "    table = pd.DataFrame(data.T, columns = ['x', 'Analitic', 'Numeric', 'Diff', 'Max Diff'])\n",
    "    \n",
    "    plt.figure(figsize = (10,6))\n",
    "    plt.plot(x,np.vectorize(analyt)(x,[t[N] for i in range(L+1)]))\n",
    "    plt.plot(x,U_num(N,L,x,t)[N])\n",
    "    plt.legend(['analitic','numeric'])\n",
    "    plt.show()\n",
    "    print('Max diff = {:.5E}'.format(max(value)))\n",
    "    \n",
    "    return table"
   ]
  },
  {
   "cell_type": "code",
   "execution_count": 8,
   "metadata": {},
   "outputs": [
    {
     "data": {
      "image/png": "[encoded data removed]",
      "text/plain": [
       "<Figure size 720x432 with 1 Axes>"
      ]
     },
     "metadata": {
      "needs_background": "light"
     },
     "output_type": "display_data"
    },
    {
     "name": "stdout",
     "output_type": "stream",
     "text": [
      "Max diff = 7.81250E-05\n"
     ]
    },
    {
     "data": {
      "text/html": [
       "<div>\n",
       "<style scoped>\n",
       "    .dataframe tbody tr th:only-of-type {\n",
       "        vertical-align: middle;\n",
       "    }\n",
       "\n",
       "    .dataframe tbody tr th {\n",
       "        vertical-align: top;\n",
       "    }\n",
       "\n",
       "    .dataframe thead th {\n",
       "        text-align: right;\n",
       "    }\n",
       "</style>\n",
       "<table border=\"1\" class=\"dataframe\">\n",
       "  <thead>\n",
       "    <tr style=\"text-align: right;\">\n",
       "      <th></th>\n",
       "      <th>x</th>\n",
       "      <th>Analitic</th>\n",
       "      <th>Numeric</th>\n",
       "      <th>Diff</th>\n",
       "      <th>Max Diff</th>\n",
       "    </tr>\n",
       "  </thead>\n",
       "  <tbody>\n",
       "    <tr>\n",
       "      <td>0</td>\n",
       "      <td>0.000000E+00</td>\n",
       "      <td>1.000000E+00</td>\n",
       "      <td>1.000014E+00</td>\n",
       "      <td>1.365552E-05</td>\n",
       "      <td>7.812500E-05</td>\n",
       "    </tr>\n",
       "    <tr>\n",
       "      <td>1</td>\n",
       "      <td>1.250000E-02</td>\n",
       "      <td>1.033900E+00</td>\n",
       "      <td>1.033922E+00</td>\n",
       "      <td>2.209993E-05</td>\n",
       "      <td>7.812500E-05</td>\n",
       "    </tr>\n",
       "    <tr>\n",
       "      <td>2</td>\n",
       "      <td>2.500000E-02</td>\n",
       "      <td>1.067645E+00</td>\n",
       "      <td>1.067671E+00</td>\n",
       "      <td>2.609909E-05</td>\n",
       "      <td>7.812500E-05</td>\n",
       "    </tr>\n",
       "    <tr>\n",
       "      <td>3</td>\n",
       "      <td>3.750000E-02</td>\n",
       "      <td>1.101232E+00</td>\n",
       "      <td>1.101260E+00</td>\n",
       "      <td>2.760426E-05</td>\n",
       "      <td>7.812500E-05</td>\n",
       "    </tr>\n",
       "    <tr>\n",
       "      <td>4</td>\n",
       "      <td>5.000000E-02</td>\n",
       "      <td>1.134664E+00</td>\n",
       "      <td>1.134692E+00</td>\n",
       "      <td>2.816437E-05</td>\n",
       "      <td>7.812500E-05</td>\n",
       "    </tr>\n",
       "    <tr>\n",
       "      <td>...</td>\n",
       "      <td>...</td>\n",
       "      <td>...</td>\n",
       "      <td>...</td>\n",
       "      <td>...</td>\n",
       "      <td>...</td>\n",
       "    </tr>\n",
       "    <tr>\n",
       "      <td>76</td>\n",
       "      <td>9.500000E-01</td>\n",
       "      <td>3.131118E+00</td>\n",
       "      <td>3.131180E+00</td>\n",
       "      <td>6.234009E-05</td>\n",
       "      <td>7.812500E-05</td>\n",
       "    </tr>\n",
       "    <tr>\n",
       "      <td>77</td>\n",
       "      <td>9.625000E-01</td>\n",
       "      <td>3.153143E+00</td>\n",
       "      <td>3.153207E+00</td>\n",
       "      <td>6.367587E-05</td>\n",
       "      <td>7.812500E-05</td>\n",
       "    </tr>\n",
       "    <tr>\n",
       "      <td>78</td>\n",
       "      <td>9.750000E-01</td>\n",
       "      <td>3.175012E+00</td>\n",
       "      <td>3.175074E+00</td>\n",
       "      <td>6.130831E-05</td>\n",
       "      <td>7.812500E-05</td>\n",
       "    </tr>\n",
       "    <tr>\n",
       "      <td>79</td>\n",
       "      <td>9.875000E-01</td>\n",
       "      <td>3.196725E+00</td>\n",
       "      <td>3.196803E+00</td>\n",
       "      <td>7.812500E-05</td>\n",
       "      <td>7.812500E-05</td>\n",
       "    </tr>\n",
       "    <tr>\n",
       "      <td>80</td>\n",
       "      <td>1.000000E+00</td>\n",
       "      <td>3.218282E+00</td>\n",
       "      <td>3.218282E+00</td>\n",
       "      <td>0.000000E+00</td>\n",
       "      <td>7.812500E-05</td>\n",
       "    </tr>\n",
       "  </tbody>\n",
       "</table>\n",
       "<p>81 rows × 5 columns</p>\n",
       "</div>"
      ],
      "text/plain": [
       "              x     Analitic      Numeric         Diff     Max Diff\n",
       "0  0.000000E+00 1.000000E+00 1.000014E+00 1.365552E-05 7.812500E-05\n",
       "1  1.250000E-02 1.033900E+00 1.033922E+00 2.209993E-05 7.812500E-05\n",
       "2  2.500000E-02 1.067645E+00 1.067671E+00 2.609909E-05 7.812500E-05\n",
       "3  3.750000E-02 1.101232E+00 1.101260E+00 2.760426E-05 7.812500E-05\n",
       "4  5.000000E-02 1.134664E+00 1.134692E+00 2.816437E-05 7.812500E-05\n",
       "..          ...          ...          ...          ...          ...\n",
       "76 9.500000E-01 3.131118E+00 3.131180E+00 6.234009E-05 7.812500E-05\n",
       "77 9.625000E-01 3.153143E+00 3.153207E+00 6.367587E-05 7.812500E-05\n",
       "78 9.750000E-01 3.175012E+00 3.175074E+00 6.130831E-05 7.812500E-05\n",
       "79 9.875000E-01 3.196725E+00 3.196803E+00 7.812500E-05 7.812500E-05\n",
       "80 1.000000E+00 3.218282E+00 3.218282E+00 0.000000E+00 7.812500E-05\n",
       "\n",
       "[81 rows x 5 columns]"
      ]
     },
     "execution_count": 8,
     "metadata": {},
     "output_type": "execute_result"
    }
   ],
   "source": [
    "result(80, 80)"
   ]
  },
  {
   "cell_type": "markdown",
   "metadata": {},
   "source": [
    "#### Часть 2: Апроксимация\n",
    "\n",
    "Проверим схему на апроксимацию увеличивая шаг по x и по t в два раза. Найдем ошибку как норму (здесь берем первую) разности численного решения и аналитического, затем построим график $\\log(err)$ от $\\log(h+\\tau)$ и убедимся, что его коэффицент наклона не меньше 2 в идеале"
   ]
  },
  {
   "cell_type": "code",
   "execution_count": 9,
   "metadata": {},
   "outputs": [],
   "source": [
    "def result_double_grid(num): \n",
    "    pd.set_option('display.float_format', lambda x: '{:.5E}'.format(x))\n",
    "    L = np.array([10*2**i for i in range(num+1)])\n",
    "\n",
    "    N = L\n",
    "    h = 1/L\n",
    "    tau = 1/N\n",
    "    diff = []\n",
    "    tau_plus_h = []\n",
    "    for i in range(num+1):\n",
    "        x = np.arange(0,1+1/(100*L[i]),1/L[i])\n",
    "        t = np.arange(0,1+1/(100*N[i]),1/N[i])\n",
    "        tau_plus_h.append(1/(L[i]-1)+1/(N[i]-1))\n",
    "        diff.append(max(abs(U_analyt(N[i],L[i], x, t)[N[i]]-U_num(N[i],L[i],x,t)[N[i]])))\n",
    "    data = np.concatenate((L, diff,tau_plus_h ))\n",
    "    data = data.reshape((3,num+1))\n",
    "    table = pd.DataFrame(data.T, columns = ['L', 'Max Diff', '$O(\\tau) O(h)$'])\n",
    "    \n",
    "    \n",
    "    return table"
   ]
  },
  {
   "cell_type": "code",
   "execution_count": 10,
   "metadata": {},
   "outputs": [
    {
     "data": {
      "text/html": [
       "<div>\n",
       "<style scoped>\n",
       "    .dataframe tbody tr th:only-of-type {\n",
       "        vertical-align: middle;\n",
       "    }\n",
       "\n",
       "    .dataframe tbody tr th {\n",
       "        vertical-align: top;\n",
       "    }\n",
       "\n",
       "    .dataframe thead th {\n",
       "        text-align: right;\n",
       "    }\n",
       "</style>\n",
       "<table border=\"1\" class=\"dataframe\">\n",
       "  <thead>\n",
       "    <tr style=\"text-align: right;\">\n",
       "      <th></th>\n",
       "      <th>L</th>\n",
       "      <th>Max Diff</th>\n",
       "      <th>$O(\\tau) O(h)$</th>\n",
       "    </tr>\n",
       "  </thead>\n",
       "  <tbody>\n",
       "    <tr>\n",
       "      <td>0</td>\n",
       "      <td>1.00000E+01</td>\n",
       "      <td>5.00000E-03</td>\n",
       "      <td>2.22222E-01</td>\n",
       "    </tr>\n",
       "    <tr>\n",
       "      <td>1</td>\n",
       "      <td>2.00000E+01</td>\n",
       "      <td>1.25000E-03</td>\n",
       "      <td>1.05263E-01</td>\n",
       "    </tr>\n",
       "    <tr>\n",
       "      <td>2</td>\n",
       "      <td>4.00000E+01</td>\n",
       "      <td>3.12500E-04</td>\n",
       "      <td>5.12821E-02</td>\n",
       "    </tr>\n",
       "    <tr>\n",
       "      <td>3</td>\n",
       "      <td>8.00000E+01</td>\n",
       "      <td>7.81250E-05</td>\n",
       "      <td>2.53165E-02</td>\n",
       "    </tr>\n",
       "    <tr>\n",
       "      <td>4</td>\n",
       "      <td>1.60000E+02</td>\n",
       "      <td>1.95312E-05</td>\n",
       "      <td>1.25786E-02</td>\n",
       "    </tr>\n",
       "    <tr>\n",
       "      <td>5</td>\n",
       "      <td>3.20000E+02</td>\n",
       "      <td>4.88281E-06</td>\n",
       "      <td>6.26959E-03</td>\n",
       "    </tr>\n",
       "    <tr>\n",
       "      <td>6</td>\n",
       "      <td>6.40000E+02</td>\n",
       "      <td>1.22070E-06</td>\n",
       "      <td>3.12989E-03</td>\n",
       "    </tr>\n",
       "    <tr>\n",
       "      <td>7</td>\n",
       "      <td>1.28000E+03</td>\n",
       "      <td>3.05176E-07</td>\n",
       "      <td>1.56372E-03</td>\n",
       "    </tr>\n",
       "  </tbody>\n",
       "</table>\n",
       "</div>"
      ],
      "text/plain": [
       "            L    Max Diff  $O(\\tau) O(h)$\n",
       "0 1.00000E+01 5.00000E-03     2.22222E-01\n",
       "1 2.00000E+01 1.25000E-03     1.05263E-01\n",
       "2 4.00000E+01 3.12500E-04     5.12821E-02\n",
       "3 8.00000E+01 7.81250E-05     2.53165E-02\n",
       "4 1.60000E+02 1.95312E-05     1.25786E-02\n",
       "5 3.20000E+02 4.88281E-06     6.26959E-03\n",
       "6 6.40000E+02 1.22070E-06     3.12989E-03\n",
       "7 1.28000E+03 3.05176E-07     1.56372E-03"
      ]
     },
     "execution_count": 10,
     "metadata": {},
     "output_type": "execute_result"
    }
   ],
   "source": [
    "a = result_double_grid(7)\n",
    "a"
   ]
  },
  {
   "cell_type": "code",
   "execution_count": 11,
   "metadata": {},
   "outputs": [],
   "source": [
    "y = np.log(a['Max Diff'])\n",
    "x = np.log(a['$O(\\tau) O(h)$'])"
   ]
  },
  {
   "cell_type": "code",
   "execution_count": 12,
   "metadata": {},
   "outputs": [],
   "source": [
    "z = np.polyfit(x, y, deg=1)"
   ]
  },
  {
   "cell_type": "code",
   "execution_count": 13,
   "metadata": {},
   "outputs": [
    {
     "data": {
      "text/plain": [
       "array([ 1.96420365, -2.27454675])"
      ]
     },
     "execution_count": 13,
     "metadata": {},
     "output_type": "execute_result"
    }
   ],
   "source": [
    "z"
   ]
  },
  {
   "cell_type": "code",
   "execution_count": 14,
   "metadata": {},
   "outputs": [
    {
     "data": {
      "image/png": "[encoded data removed]",
      "text/plain": [
       "<Figure size 432x288 with 1 Axes>"
      ]
     },
     "metadata": {
      "needs_background": "light"
     },
     "output_type": "display_data"
    }
   ],
   "source": [
    "plt.title('order of aproximation')\n",
    "plt.plot(x , y, label='k ={:.2E}'.format(z[0]), \n",
    "        linestyle='--', color='r')\n",
    "plt.scatter(x , y, color = 'purple')\n",
    "plt.xlabel('$\\log(tau+h)$')\n",
    "plt.ylabel('$\\log(Max Diff)$')\n",
    "plt.legend()\n",
    "plt.show()\n"
   ]
  },
  {
   "cell_type": "markdown",
   "metadata": {},
   "source": [
    "Итак, мы получили что конкретно в нашей задаче происходит апроксимация чуть ли не2-ого порядка, что совпадает с расчетами $O(h^2+\\tau^2)$. "
   ]
  },
  {
   "cell_type": "markdown",
   "metadata": {},
   "source": [
    "#### Часть 3: устойчивость\n",
    "За счет спектрального признака с использованием принципа замороженных коэффициентов, получили:\n",
    "$$\\tau < \\frac{2h}{max(a)} --> \\tau < h$$"
   ]
  },
  {
   "cell_type": "code",
   "execution_count": 15,
   "metadata": {},
   "outputs": [],
   "source": [
    "error = []\n",
    "k_list = np.linspace(0.3, 2.0, 25)\n",
    "\n",
    "for k in k_list:\n",
    "    L = 200+1\n",
    "    N = int(200/k)+1\n",
    "    x = np.arange(0,1+1/(100*L),1/L)\n",
    "    t = np.arange(0,1+1/(100*N),1/N)\n",
    "    error.append(max(abs(U_analyt(N,L, x, t)[N]-U_num(N,L,x,t)[N])))"
   ]
  },
  {
   "cell_type": "code",
   "execution_count": 16,
   "metadata": {},
   "outputs": [
    {
     "name": "stderr",
     "output_type": "stream",
     "text": [
      "No handles with labels found to put in legend.\n"
     ]
    },
    {
     "data": {
      "image/png": "[encoded data removed]",
      "text/plain": [
       "<Figure size 432x288 with 1 Axes>"
      ]
     },
     "metadata": {
      "needs_background": "light"
     },
     "output_type": "display_data"
    }
   ],
   "source": [
    "plt.title('Robustnes of sheme')\n",
    "plt.yscale('log')\n",
    "plt.xlabel('tau/h')\n",
    "plt.ylabel('err')\n",
    "# plt.fill_between([0.5, 1], 0, y2 = 1, color ='g', alpha = 0.3, label='robust area')\n",
    "plt.plot(k_list, error)\n",
    "plt.legend()\n",
    "plt.show()"
   ]
  },
  {
   "cell_type": "code",
   "execution_count": null,
   "metadata": {},
   "outputs": [],
   "source": []
  }
 ],
 "metadata": {
  "kernelspec": {
   "display_name": "Python 3",
   "language": "python",
   "name": "python3"
  },
  "language_info": {
   "codemirror_mode": {
    "name": "ipython",
    "version": 3
   },
   "file_extension": ".py",
   "mimetype": "text/x-python",
   "name": "python",
   "nbconvert_exporter": "python",
   "pygments_lexer": "ipython3",
   "version": "3.7.4"
  }
 },
 "nbformat": 4,
 "nbformat_minor": 4
}
