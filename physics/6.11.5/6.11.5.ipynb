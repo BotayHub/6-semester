{
 "cells": [
  {
   "cell_type": "code",
   "execution_count": 9,
   "metadata": {},
   "outputs": [],
   "source": [
    "import matplotlib.pyplot as plt\n",
    "import pandas as pd\n",
    "import numpy as np\n",
    "import scipy as sp\n",
    "from scipy import stats\n",
    "from statistics import mean\n",
    "from functools import reduce\n",
    "import math"
   ]
  },
  {
   "cell_type": "code",
   "execution_count": 16,
   "metadata": {},
   "outputs": [],
   "source": [
    "file = pd.ExcelFile(\"data_Kate.xlsx\")"
   ]
  },
  {
   "cell_type": "code",
   "execution_count": 17,
   "metadata": {},
   "outputs": [],
   "source": [
    "I = file.parse(sheet_name = 'sheet', header=0, usecols='A').values.flatten()\n",
    "U = file.parse(sheet_name = 'sheet', header=0, usecols='B').values.flatten()\n",
    "U_error = 0.0001 #В\n",
    "I_error = 0.1 #А"
   ]
  },
  {
   "cell_type": "code",
   "execution_count": 18,
   "metadata": {},
   "outputs": [
    {
     "data": {
      "image/png": "[encoded data removed]",
      "text/plain": [
       "<Figure size 432x288 with 1 Axes>"
      ]
     },
     "metadata": {
      "needs_background": "light"
     },
     "output_type": "display_data"
    }
   ],
   "source": [
    "fig, ax = plt.subplots()\n",
    "plt.scatter(U, I, color = 'black', s = 2)\n",
    "plt.errorbar(U, I, yerr = I_error, xerr = U_error,fmt='none',ecolor = 'black',elinewidth = 1)\n",
    "\n",
    "plt.grid(True)\n",
    "ax.minorticks_on()\n",
    "ax.grid(which='major', linewidth = 0.75)\n",
    "ax.grid(which='minor', linewidth = 0.5)\n",
    "ax.set_ylabel('I, мА')\n",
    "ax.set_xlabel('U, В')\n",
    "plt.show()\n",
    "fig.savefig('I(U).png', dpi = 1000)"
   ]
  },
  {
   "cell_type": "code",
   "execution_count": null,
   "metadata": {},
   "outputs": [],
   "source": []
  }
 ],
 "metadata": {
  "kernelspec": {
   "display_name": "Python 3",
   "language": "python",
   "name": "python3"
  },
  "language_info": {
   "codemirror_mode": {
    "name": "ipython",
    "version": 3
   },
   "file_extension": ".py",
   "mimetype": "text/x-python",
   "name": "python",
   "nbconvert_exporter": "python",
   "pygments_lexer": "ipython3",
   "version": "3.7.4"
  }
 },
 "nbformat": 4,
 "nbformat_minor": 2
}
